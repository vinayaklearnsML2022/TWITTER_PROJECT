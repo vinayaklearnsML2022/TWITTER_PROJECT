{
 "cells": [
  {
   "cell_type": "code",
   "execution_count": 2,
   "id": "6fde5ef3-1f1e-4c1b-b122-2b9fdb939491",
   "metadata": {},
   "outputs": [
    {
     "data": {
      "text/plain": [
       "36"
      ]
     },
     "execution_count": 2,
     "metadata": {},
     "output_type": "execute_result"
    }
   ],
   "source": [
    "string = \"மத வன்முறையை தூண்டும் விதமாக கருத்து\"\n",
    "\n",
    "len(string)"
   ]
  },
  {
   "cell_type": "code",
   "execution_count": 7,
   "id": "e7dc524c-a9ec-48c0-a3bb-7710226d4dac",
   "metadata": {},
   "outputs": [
    {
     "name": "stdout",
     "output_type": "stream",
     "text": [
      "[2990, 2980, 32, 2997, 2985, 3021, 2990, 3009, 2993, 3016, 2991, 3016, 32, 2980, 3010, 2979, 3021, 2975, 3009, 2990, 3021, 32, 2997, 3007, 2980, 2990, 3006, 2965, 32, 2965, 2992, 3009, 2980, 3021, 2980, 3009, 32]\n"
     ]
    }
   ],
   "source": [
    "conv = []\n",
    "for s in string:\n",
    "    conv.append(ord(s))\n",
    "\n",
    "conv.append(32)\n",
    "\n",
    "print(conv)"
   ]
  },
  {
   "cell_type": "code",
   "execution_count": null,
   "id": "cc66e574-1d1e-47ba-884f-351eadffcb11",
   "metadata": {},
   "outputs": [],
   "source": []
  }
 ],
 "metadata": {
  "kernelspec": {
   "display_name": "Python 3 (ipykernel)",
   "language": "python",
   "name": "python3"
  },
  "language_info": {
   "codemirror_mode": {
    "name": "ipython",
    "version": 3
   },
   "file_extension": ".py",
   "mimetype": "text/x-python",
   "name": "python",
   "nbconvert_exporter": "python",
   "pygments_lexer": "ipython3",
   "version": "3.11.7"
  }
 },
 "nbformat": 4,
 "nbformat_minor": 5
}
